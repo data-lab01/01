{
 "cells": [
  {
   "cell_type": "markdown",
   "metadata": {},
   "source": [
    "# Data predictions\n",
    "\n",
    "Goal: We want you to predict the number of __sales_per_day__ (= label) with the given dataset.\n",
    "\n",
    "\n",
    "Short explanation of the dataset: \n",
    "- __outlet_id__: The ID of a outlet/market\n",
    "- __country__: The country in which the outlet is located\n",
    "- __brand__: \"MediaMarkt\" or \"Saturn\"\n",
    "- __customers_per_day__: The number of customers per day in this outlet \n",
    "- __sales_per_day__: The amount of sales for a specific outlet on a specific day\n",
    "- __currency__: The currency of __sales_per_day__\n",
    "- __week_id__: Calendar week \n",
    "- __weekday__: mon = Monday, tue = Tuesday, ... , sun = Sunday"
    ]
  },
  {
   "cell_type": "code",
   "execution_count": 1,
   "metadata": {},
   "outputs": [],
   "source": [
    "%load_ext autoreload\n",
    "%autoreload 2\n",
    "%matplotlib inline\n",
    "\n",
    "import numpy as np\n",
    "import pandas as pd\n",
    "data_path = 'data.csv'\n",
    "mydf = pd.read_csv(data_path, sep=';')"
   ]
  },
  {
   "cell_type": "code",
   "execution_count": 2,
   "metadata": {},
   "outputs": [],
   "source": [
    "mean1 = mydf['customers_per_day'].mean()\n",
    "mean2 = mydf['sales_per_day'].mean()\n",
    "sum = mydf.groupby('country')[['sales_per_day']].sum()\n",
    "max = mydf['sales_per_day'].max()\n",
    "count = mydf['sales_per_day'].count()\n",
    "median = mydf['sales_per_day'].median()\n",
    "variance = mydf['sales_per_day'].var()\n",
    "std = mydf['sales_per_day'].std()\n",
    "uniqueness = mydf['week_id'].unique()"
   ]
  },
  {
   "cell_type": "code",
   "execution_count": 3,
   "metadata": {},
   "outputs": [
    {
     "data": {
      "text/plain": [
       "count     18193.000000\n",
       "mean      50823.378059\n",
       "std       31283.133925\n",
       "min     -999999.000000\n",
       "25%       51260.450000\n",
       "50%       57319.920000\n",
       "75%       63163.580000\n",
       "max       96225.530000\n",
       "Name: sales_per_day, dtype: float64"
      ]
     },
     "execution_count": 3,
     "metadata": {},
     "output_type": "execute_result"
    }
   ],
   "source": [
    "mydf['sales_per_day'].describe()"
   ]
  },
  {
   "cell_type": "code",
   "execution_count": 4,
   "metadata": {},
   "outputs": [
    {
     "data": {
      "text/plain": [
       "brand                 object\n",
       "country               object\n",
       "currency              object\n",
       "customers_per_day    float64\n",
       "outlet_id            float64\n",
       "week_id              float64\n",
       "weekday               object\n",
       "sales_per_day        float64\n",
       "dtype: object"
      ]
     },
     "execution_count": 4,
     "metadata": {},
     "output_type": "execute_result"
    }
   ],
   "source": [
    "mydf.dtypes"
   ]
  },
  {
   "cell_type": "code",
   "execution_count": 5,
   "metadata": {},
   "outputs": [
    {
     "data": {
      "text/html": [
       "<div>\n",
       "<style scoped>\n",
       "    .dataframe tbody tr th:only-of-type {\n",
       "        vertical-align: middle;\n",
       "    }\n",
       "\n",
       "    .dataframe tbody tr th {\n",
       "        vertical-align: top;\n",
       "    }\n",
       "\n",
       "    .dataframe thead th {\n",
       "        text-align: right;\n",
       "    }\n",
       "</style>\n",
       "<table border=\"1\" class=\"dataframe\">\n",
       "  <thead>\n",
       "    <tr style=\"text-align: right;\">\n",
       "      <th></th>\n",
       "      <th>country</th>\n",
       "      <th>customers_per_day</th>\n",
       "      <th>sales_per_day</th>\n",
       "    </tr>\n",
       "  </thead>\n",
       "  <tbody>\n",
       "    <tr>\n",
       "      <th>0</th>\n",
       "      <td>spain</td>\n",
       "      <td>3138.0</td>\n",
       "      <td>72169.14</td>\n",
       "    </tr>\n",
       "    <tr>\n",
       "      <th>1</th>\n",
       "      <td>germany</td>\n",
       "      <td>378.0</td>\n",
       "      <td>52825.62</td>\n",
       "    </tr>\n",
       "    <tr>\n",
       "      <th>2</th>\n",
       "      <td>italy</td>\n",
       "      <td>379.0</td>\n",
       "      <td>53309.83</td>\n",
       "    </tr>\n",
       "    <tr>\n",
       "      <th>3</th>\n",
       "      <td>germany</td>\n",
       "      <td>3050.0</td>\n",
       "      <td>74237.45</td>\n",
       "    </tr>\n",
       "    <tr>\n",
       "      <th>4</th>\n",
       "      <td>spain</td>\n",
       "      <td>548.0</td>\n",
       "      <td>56621.61</td>\n",
       "    </tr>\n",
       "  </tbody>\n",
       "</table>\n",
       "</div>"
      ],
      "text/plain": [
       "   country  customers_per_day  sales_per_day\n",
       "0    spain             3138.0       72169.14\n",
       "1  germany              378.0       52825.62\n",
       "2    italy              379.0       53309.83\n",
       "3  germany             3050.0       74237.45\n",
       "4    spain              548.0       56621.61"
      ]
     },
     "execution_count": 5,
     "metadata": {},
     "output_type": "execute_result"
    }
   ],
   "source": [
    "dailysales = mydf[['country','customers_per_day','sales_per_day']]\n",
    "dailysales.head()"
   ]
  },
  {
   "cell_type": "code",
   "execution_count": 6,
   "metadata": {},
   "outputs": [
    {
     "data": {
      "text/plain": [
       "country\n",
       "austria        2496\n",
       "germany        4995\n",
       "greece         2141\n",
       "italy          2852\n",
       "netherlands    2137\n",
       "spain          2495\n",
       "switzerland    1069\n",
       "dtype: int64"
      ]
     },
     "execution_count": 6,
     "metadata": {},
     "output_type": "execute_result"
    }
   ],
   "source": [
    "groupedsales = dailysales.groupby('country')\n",
    "groupedsales.size()"
   ]
  },
  {
   "cell_type": "code",
   "execution_count": null,
   "metadata": {},
   "outputs": [],
   "source": []
  }
 ],
 "metadata": {
  "kernelspec": {
   "display_name": "Python 3",
   "language": "python",
   "name": "python3"
  },
  "language_info": {
   "codemirror_mode": {
    "name": "ipython",
    "version": 3
   },
   "file_extension": ".py",
   "mimetype": "text/x-python",
   "name": "python",
   "nbconvert_exporter": "python",
   "pygments_lexer": "ipython3",
   "version": "3.7.3"
  },
  "toc": {
   "base_numbering": 1,
   "nav_menu": {},
   "number_sections": true,
   "sideBar": true,
   "skip_h1_title": false,
   "title_cell": "Table of Contents",
   "title_sidebar": "Contents",
   "toc_cell": false,
   "toc_position": {
    "height": "calc(100% - 180px)",
    "left": "10px",
    "top": "150px",
    "width": "384px"
   },
   "toc_section_display": true,
   "toc_window_display": true
  },
  "varInspector": {
   "cols": {
    "lenName": 16,
    "lenType": 16,
    "lenVar": 40
   },
   "kernels_config": {
    "python": {
     "delete_cmd_postfix": "",
     "delete_cmd_prefix": "del ",
     "library": "var_list.py",
     "varRefreshCmd": "print(var_dic_list())"
    },
    "r": {
     "delete_cmd_postfix": ") ",
     "delete_cmd_prefix": "rm(",
     "library": "var_list.r",
     "varRefreshCmd": "cat(var_dic_list()) "
    }
   },
   "types_to_exclude": [
    "module",
    "function",
    "builtin_function_or_method",
    "instance",
    "_Feature"
   ],
   "window_display": false
  }
 },
 "nbformat": 4,
 "nbformat_minor": 2
}
