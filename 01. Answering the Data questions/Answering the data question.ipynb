{
 "cells": [
  {
   "cell_type": "code",
   "execution_count": null,
   "metadata": {},
   "outputs": [],
   "source": [
    "%load_ext autoreload\n",
    "%autoreload 2\n",
    "%matplotlib inline"
   ]
  },
  {
   "cell_type": "markdown",
   "metadata": {},
   "source": [
    "\n",
    "# __Answering the data questions__\n",
    "\n",
    "\n",
    "Short explanation of the dataset: \n",
    "- __outlet_id__: The ID of a outlet/market\n",
    "- __country__: The country in which the outlet is located\n",
    "- __brand__: \"MediaMarkt\" or \"Saturn\"\n",
    "- __customers_per_day__: The number of customers per day in this outlet \n",
    "- __sales_per_day__: The amount of sales for a specific outlet on a specific day\n",
    "- __currency__: The currency of __sales_per_day__\n",
    "- __week_id__: Calendar week \n",
    "- __weekday__: mon = Monday, tue = Tuesday, ... , sun = Sunday"
   ]
  },
  {
   "cell_type": "markdown",
   "metadata": {},
   "source": [
    "## The data has 8 variable to be used in measuring\n",
    "\n",
    "#### For the case study: Mediamarkt\n",
    "\n",
    "    1. Outlet\n",
    "    2. Country\n",
    "    3. Brand\n",
    "    4. Customer per day\n",
    "    5. Sales per day\n",
    "    6. Currency\n",
    "    7. Week ID\n",
    "    8. Weekday\n",
    "    "
   ]
  },
  {
   "cell_type": "code",
   "execution_count": 1,
   "metadata": {},
   "outputs": [
    {
     "data": {
      "text/html": [
       "<div>\n",
       "<style scoped>\n",
       "    .dataframe tbody tr th:only-of-type {\n",
       "        vertical-align: middle;\n",
       "    }\n",
       "\n",
       "    .dataframe tbody tr th {\n",
       "        vertical-align: top;\n",
       "    }\n",
       "\n",
       "    .dataframe thead th {\n",
       "        text-align: right;\n",
       "    }\n",
       "</style>\n",
       "<table border=\"1\" class=\"dataframe\">\n",
       "  <thead>\n",
       "    <tr style=\"text-align: right;\">\n",
       "      <th></th>\n",
       "      <th>brand</th>\n",
       "      <th>country</th>\n",
       "      <th>currency</th>\n",
       "      <th>customers_per_day</th>\n",
       "      <th>outlet_id</th>\n",
       "      <th>week_id</th>\n",
       "      <th>weekday</th>\n",
       "      <th>sales_per_day</th>\n",
       "    </tr>\n",
       "  </thead>\n",
       "  <tbody>\n",
       "    <tr>\n",
       "      <td>0</td>\n",
       "      <td>MediaMarkt</td>\n",
       "      <td>spain</td>\n",
       "      <td>EURO</td>\n",
       "      <td>3138.0</td>\n",
       "      <td>100.0</td>\n",
       "      <td>34.0</td>\n",
       "      <td>sat</td>\n",
       "      <td>72169.14</td>\n",
       "    </tr>\n",
       "    <tr>\n",
       "      <td>1</td>\n",
       "      <td>Saturn</td>\n",
       "      <td>germany</td>\n",
       "      <td>EURO</td>\n",
       "      <td>378.0</td>\n",
       "      <td>86.0</td>\n",
       "      <td>8.0</td>\n",
       "      <td>mon</td>\n",
       "      <td>52825.62</td>\n",
       "    </tr>\n",
       "    <tr>\n",
       "      <td>2</td>\n",
       "      <td>MediaMarkt</td>\n",
       "      <td>italy</td>\n",
       "      <td>EURO</td>\n",
       "      <td>379.0</td>\n",
       "      <td>530.0</td>\n",
       "      <td>28.0</td>\n",
       "      <td>thu</td>\n",
       "      <td>53309.83</td>\n",
       "    </tr>\n",
       "    <tr>\n",
       "      <td>3</td>\n",
       "      <td>Saturn</td>\n",
       "      <td>germany</td>\n",
       "      <td>EURO</td>\n",
       "      <td>3050.0</td>\n",
       "      <td>17.0</td>\n",
       "      <td>47.0</td>\n",
       "      <td>sat</td>\n",
       "      <td>74237.45</td>\n",
       "    </tr>\n",
       "    <tr>\n",
       "      <td>4</td>\n",
       "      <td>MediaMarkt</td>\n",
       "      <td>spain</td>\n",
       "      <td>EURO</td>\n",
       "      <td>548.0</td>\n",
       "      <td>164.0</td>\n",
       "      <td>7.0</td>\n",
       "      <td>tue</td>\n",
       "      <td>56621.61</td>\n",
       "    </tr>\n",
       "    <tr>\n",
       "      <td>5</td>\n",
       "      <td>MediaMarkt</td>\n",
       "      <td>austria</td>\n",
       "      <td>EURO</td>\n",
       "      <td>1424.0</td>\n",
       "      <td>399.0</td>\n",
       "      <td>7.0</td>\n",
       "      <td>fri</td>\n",
       "      <td>59294.79</td>\n",
       "    </tr>\n",
       "    <tr>\n",
       "      <td>6</td>\n",
       "      <td>MediaMarkt</td>\n",
       "      <td>italy</td>\n",
       "      <td>EURO</td>\n",
       "      <td>479.0</td>\n",
       "      <td>598.0</td>\n",
       "      <td>46.0</td>\n",
       "      <td>thu</td>\n",
       "      <td>61603.64</td>\n",
       "    </tr>\n",
       "    <tr>\n",
       "      <td>7</td>\n",
       "      <td>MediaMarkt</td>\n",
       "      <td>austria</td>\n",
       "      <td>EURO</td>\n",
       "      <td>2028.0</td>\n",
       "      <td>342.0</td>\n",
       "      <td>36.0</td>\n",
       "      <td>sat</td>\n",
       "      <td>-999999.00</td>\n",
       "    </tr>\n",
       "    <tr>\n",
       "      <td>8</td>\n",
       "      <td>MediaMarkt</td>\n",
       "      <td>germany</td>\n",
       "      <td>EURO</td>\n",
       "      <td>1425.0</td>\n",
       "      <td>56.0</td>\n",
       "      <td>46.0</td>\n",
       "      <td>fri</td>\n",
       "      <td>62742.69</td>\n",
       "    </tr>\n",
       "    <tr>\n",
       "      <td>9</td>\n",
       "      <td>MediaMarkt</td>\n",
       "      <td>switzerland</td>\n",
       "      <td>CHF</td>\n",
       "      <td>266.0</td>\n",
       "      <td>477.0</td>\n",
       "      <td>10.0</td>\n",
       "      <td>mon</td>\n",
       "      <td>51922.36</td>\n",
       "    </tr>\n",
       "  </tbody>\n",
       "</table>\n",
       "</div>"
      ],
      "text/plain": [
       "        brand      country currency  customers_per_day  outlet_id  week_id  \\\n",
       "0  MediaMarkt        spain     EURO             3138.0      100.0     34.0   \n",
       "1      Saturn      germany     EURO              378.0       86.0      8.0   \n",
       "2  MediaMarkt        italy     EURO              379.0      530.0     28.0   \n",
       "3      Saturn      germany     EURO             3050.0       17.0     47.0   \n",
       "4  MediaMarkt        spain     EURO              548.0      164.0      7.0   \n",
       "5  MediaMarkt      austria     EURO             1424.0      399.0      7.0   \n",
       "6  MediaMarkt        italy     EURO              479.0      598.0     46.0   \n",
       "7  MediaMarkt      austria     EURO             2028.0      342.0     36.0   \n",
       "8  MediaMarkt      germany     EURO             1425.0       56.0     46.0   \n",
       "9  MediaMarkt  switzerland      CHF              266.0      477.0     10.0   \n",
       "\n",
       "  weekday  sales_per_day  \n",
       "0     sat       72169.14  \n",
       "1     mon       52825.62  \n",
       "2     thu       53309.83  \n",
       "3     sat       74237.45  \n",
       "4     tue       56621.61  \n",
       "5     fri       59294.79  \n",
       "6     thu       61603.64  \n",
       "7     sat     -999999.00  \n",
       "8     fri       62742.69  \n",
       "9     mon       51922.36  "
      ]
     },
     "execution_count": 1,
     "metadata": {},
     "output_type": "execute_result"
    }
   ],
   "source": [
    "import pandas as pd\n",
    "import sklearn as skl\n",
    "import seaborn as sns\n",
    "import matplotlib.pyplot as plt\n",
    "import numpy as np\n",
    "from sklearn.linear_model import LogisticRegression\n",
    "from sklearn.metrics import classification_report, confusion_matrix\n",
    "from sklearn.linear_model import LinearRegression\n",
    "from sklearn.metrics import mean_squared_error\n",
    "from sklearn.model_selection import train_test_split\n",
    "from sklearn.model_selection import cross_val_score\n",
    "from sklearn.linear_model import Lasso # import Lasoo\n",
    "from sklearn.linear_model import Ridge # Import Ridge\n",
    "\n",
    "data_path = 'data.csv'\n",
    "mydf = pd.read_csv(data_path, sep=';')\n",
    "mydf.head(10)"
   ]
  },
  {
   "cell_type": "code",
   "execution_count": 2,
   "metadata": {},
   "outputs": [
    {
     "name": "stdout",
     "output_type": "stream",
     "text": [
      "       customers_per_day      outlet_id        week_id  sales_per_day\n",
      "count       18199.000000   18194.000000   18194.000000   18193.000000\n",
      "mean          259.351503    -301.265747    -852.575684   50823.378059\n",
      "std         26758.789881   24590.138649   29643.403749   31283.133925\n",
      "min       -999999.000000 -999999.000000 -999999.000000 -999999.000000\n",
      "25%           327.000000      97.000000      14.000000   51260.450000\n",
      "50%           550.000000     255.000000      27.000000   57319.920000\n",
      "75%          1605.000000     530.000000      40.000000   63163.580000\n",
      "max          4734.000000     698.000000      52.000000   96225.530000\n",
      "\n",
      "\n"
     ]
    },
    {
     "data": {
      "text/plain": [
       "(18207, 8)"
      ]
     },
     "execution_count": 2,
     "metadata": {},
     "output_type": "execute_result"
    }
   ],
   "source": [
    "#inspect the dataframe \n",
    "print(mydf.describe())\n",
    "print('\\n')\n",
    "mydf.shape"
   ]
  },
  {
   "cell_type": "code",
   "execution_count": 3,
   "metadata": {},
   "outputs": [
    {
     "name": "stdout",
     "output_type": "stream",
     "text": [
      "These are the columns: Index(['brand', 'country', 'currency', 'customers_per_day', 'outlet_id',\n",
      "       'week_id', 'weekday', 'sales_per_day'],\n",
      "      dtype='object')\n"
     ]
    }
   ],
   "source": [
    "print('These are the columns:',mydf.columns)"
   ]
  },
  {
   "cell_type": "code",
   "execution_count": 8,
   "metadata": {},
   "outputs": [
    {
     "name": "stdout",
     "output_type": "stream",
     "text": [
      "                   customers_per_day  outlet_id   week_id  sales_per_day\n",
      "customers_per_day           1.000000  -0.000636 -0.000901       0.015286\n",
      "outlet_id                  -0.000636   1.000000 -0.000675      -0.006737\n",
      "week_id                    -0.000901  -0.000675  1.000000       0.002453\n",
      "sales_per_day               0.015286  -0.006737  0.002453       1.000000\n"
     ]
    }
   ],
   "source": [
    "print(mydf.corr()) "
   ]
  },
  {
   "cell_type": "code",
   "execution_count": 24,
   "metadata": {},
   "outputs": [
    {
     "data": {
      "text/plain": [
       "<matplotlib.axes._subplots.AxesSubplot at 0x7fb82b008c90>"
      ]
     },
     "execution_count": 24,
     "metadata": {},
     "output_type": "execute_result"
    },
    {
     "data": {
      "image/png": "[encoded data removed]",
      "text/plain": [
       "<Figure size 432x288 with 2 Axes>"
      ]
     },
     "metadata": {
      "needs_background": "light"
     },
     "output_type": "display_data"
    }
   ],
   "source": [
    "import seaborn as sns\n",
    "corr = mydf.corr()\n",
    "sns.heatmap(corr, \n",
    "            xticklabels=corr.columns.values,\n",
    "            yticklabels=corr.columns.values)"
   ]
  },
  {
   "cell_type": "code",
   "execution_count": 6,
   "metadata": {},
   "outputs": [
    {
     "data": {
      "text/plain": [
       "<bound method DataFrame.isnull of             brand  country currency  customers_per_day  outlet_id  week_id  \\\n",
       "0      MediaMarkt    spain     EURO             3138.0      100.0     34.0   \n",
       "1          Saturn  germany     EURO              378.0       86.0      8.0   \n",
       "2      MediaMarkt    italy     EURO              379.0      530.0     28.0   \n",
       "3          Saturn  germany     EURO             3050.0       17.0     47.0   \n",
       "4      MediaMarkt    spain     EURO              548.0      164.0      7.0   \n",
       "...           ...      ...      ...                ...        ...      ...   \n",
       "18202  MediaMarkt   greece     EURO                0.0      255.0     21.0   \n",
       "18203  MediaMarkt  germany     EURO              599.0       79.0     28.0   \n",
       "18204  MediaMarkt  germany     EURO              230.0       99.0     29.0   \n",
       "18205  MediaMarkt  germany     EURO              403.0       99.0     50.0   \n",
       "18206  MediaMarkt  austria     EURO              595.0      334.0     45.0   \n",
       "\n",
       "      weekday  sales_per_day  \n",
       "0         sat       72169.14  \n",
       "1         mon       52825.62  \n",
       "2         thu       53309.83  \n",
       "3         sat       74237.45  \n",
       "4         tue       56621.61  \n",
       "...       ...            ...  \n",
       "18202     sun           0.00  \n",
       "18203     tue       59706.64  \n",
       "18204     mon       54474.81  \n",
       "18205     mon       56045.90  \n",
       "18206     thu       55690.77  \n",
       "\n",
       "[18207 rows x 8 columns]>"
      ]
     },
     "execution_count": 6,
     "metadata": {},
     "output_type": "execute_result"
    }
   ],
   "source": [
    "mydf.isnull()"
   ]
  },
  {
   "cell_type": "markdown",
   "metadata": {},
   "source": [
    "# Experimental data\n",
    "\n",
    "    1. I discovered that data is quantitative\n",
    "    2. File format is in comma separated value (csv), separated with semicolumn"
   ]
  },
  {
   "cell_type": "code",
   "execution_count": null,
   "metadata": {},
   "outputs": [],
   "source": [
    "import matplotlib.pyplot as plt\n",
    "fig, z = plt.subplots(2, 1, figsize=(12, 8))\n",
    "mydf['sales_per_day'].value_counts().sort_index().plot.bar(\n",
    "    ax=z[0]\n",
    ")\n",
    "mydf['country'].value_counts().head(20).plot.bar(\n",
    "    ax=z[1]\n",
    ")"
   ]
  },
  {
   "cell_type": "markdown",
   "metadata": {},
   "source": [
    "# Context - scientific and business arch\n",
    "\n",
    "    1. Meant for scientific insigts\n",
    "    2. Advise the administration on sales performance in each country and outlets "
   ]
  },
  {
   "cell_type": "markdown",
   "metadata": {},
   "source": [
    "# Conclusion\n",
    "\n",
    "The both scientific and business questions are summaried and recorded as understood"
   ]
  },
  {
   "cell_type": "code",
   "execution_count": null,
   "metadata": {},
   "outputs": [],
   "source": []
  }
 ],
 "metadata": {
  "kernelspec": {
   "display_name": "Python 3",
   "language": "python",
   "name": "python3"
  },
  "language_info": {
   "codemirror_mode": {
    "name": "ipython",
    "version": 3
   },
   "file_extension": ".py",
   "mimetype": "text/x-python",
   "name": "python",
   "nbconvert_exporter": "python",
   "pygments_lexer": "ipython3",
   "version": "3.8.5"
  },
  "latex_envs": {
   "LaTeX_envs_menu_present": true,
   "autoclose": false,
   "autocomplete": true,
   "bibliofile": "biblio.bib",
   "cite_by": "apalike",
   "current_citInitial": 1,
   "eqLabelWithNumbers": true,
   "eqNumInitial": 1,
   "hotkeys": {
    "equation": "Ctrl-E",
    "itemize": "Ctrl-I"
   },
   "labels_anchors": false,
   "latex_user_defs": false,
   "report_style_numbering": false,
   "user_envs_cfg": false
  },
  "nbTranslate": {
   "displayLangs": [
    "*"
   ],
   "hotkey": "alt-t",
   "langInMainMenu": true,
   "sourceLang": "en",
   "targetLang": "fr",
   "useGoogleTranslate": true
  },
  "neptune": {
   "notebookId": "debf6b84-f4a5-44e4-a2a2-7d0baf32f268"
  },
  "toc": {
   "base_numbering": 1,
   "nav_menu": {},
   "number_sections": true,
   "sideBar": true,
   "skip_h1_title": false,
   "title_cell": "Table of Contents",
   "title_sidebar": "Contents",
   "toc_cell": false,
   "toc_position": {
    "height": "calc(100% - 180px)",
    "left": "10px",
    "top": "150px",
    "width": "216px"
   },
   "toc_section_display": true,
   "toc_window_display": true
  },
  "varInspector": {
   "cols": {
    "lenName": 16,
    "lenType": 16,
    "lenVar": 40
   },
   "kernels_config": {
    "python": {
     "delete_cmd_postfix": "",
     "delete_cmd_prefix": "del ",
     "library": "var_list.py",
     "varRefreshCmd": "print(var_dic_list())"
    },
    "r": {
     "delete_cmd_postfix": ") ",
     "delete_cmd_prefix": "rm(",
     "library": "var_list.r",
     "varRefreshCmd": "cat(var_dic_list()) "
    }
   },
   "types_to_exclude": [
    "module",
    "function",
    "builtin_function_or_method",
    "instance",
    "_Feature"
   ],
   "window_display": false
  }
 },
 "nbformat": 4,
 "nbformat_minor": 4
}
