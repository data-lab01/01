{
 "cells": [
  {
   "cell_type": "markdown",
   "metadata": {},
   "source": [
    "# Tidying  data"
   ]
  },
  {
   "cell_type": "markdown",
   "metadata": {},
   "source": [
    "    1. Is each variable one column?\n",
    "    2. Is each observation one row?\n",
    "    3. Did you record the recipe for moving from raw to tidy data?\n",
    "    4. Did you create a code book?\n",
    "    5. Did you record all parameters, units, and functions applied to the data?\n"
   ]
  },
  {
   "cell_type": "code",
   "execution_count": 2,
   "metadata": {},
   "outputs": [
    {
     "name": "stdout",
     "output_type": "stream",
     "text": [
      "The autoreload extension is already loaded. To reload it, use:\n",
      "  %reload_ext autoreload\n"
     ]
    }
   ],
   "source": [
    "%load_ext autoreload\n",
    "%autoreload 2\n",
    "%matplotlib inline\n",
    "\n",
    "import numpy as np\n",
    "import pandas as pd\n",
    "data_path = 'data.csv'\n",
    "mydf = pd.read_csv(data_path, sep=';')"
   ]
  },
  {
   "cell_type": "code",
   "execution_count": 5,
   "metadata": {},
   "outputs": [
    {
     "data": {
      "text/html": [
       "<div>\n",
       "<style scoped>\n",
       "    .dataframe tbody tr th:only-of-type {\n",
       "        vertical-align: middle;\n",
       "    }\n",
       "\n",
       "    .dataframe tbody tr th {\n",
       "        vertical-align: top;\n",
       "    }\n",
       "\n",
       "    .dataframe thead th {\n",
       "        text-align: right;\n",
       "    }\n",
       "</style>\n",
       "<table border=\"1\" class=\"dataframe\">\n",
       "  <thead>\n",
       "    <tr style=\"text-align: right;\">\n",
       "      <th></th>\n",
       "      <th>count</th>\n",
       "      <th>mean</th>\n",
       "      <th>std</th>\n",
       "      <th>min</th>\n",
       "      <th>25%</th>\n",
       "      <th>50%</th>\n",
       "      <th>75%</th>\n",
       "      <th>max</th>\n",
       "    </tr>\n",
       "  </thead>\n",
       "  <tbody>\n",
       "    <tr>\n",
       "      <th>customers_per_day</th>\n",
       "      <td>18199.0</td>\n",
       "      <td>259.351503</td>\n",
       "      <td>26758.789881</td>\n",
       "      <td>-999999.0</td>\n",
       "      <td>327.00</td>\n",
       "      <td>550.00</td>\n",
       "      <td>1605.00</td>\n",
       "      <td>4734.00</td>\n",
       "    </tr>\n",
       "    <tr>\n",
       "      <th>outlet_id</th>\n",
       "      <td>18194.0</td>\n",
       "      <td>-301.265747</td>\n",
       "      <td>24590.138649</td>\n",
       "      <td>-999999.0</td>\n",
       "      <td>97.00</td>\n",
       "      <td>255.00</td>\n",
       "      <td>530.00</td>\n",
       "      <td>698.00</td>\n",
       "    </tr>\n",
       "    <tr>\n",
       "      <th>week_id</th>\n",
       "      <td>18194.0</td>\n",
       "      <td>-852.575684</td>\n",
       "      <td>29643.403749</td>\n",
       "      <td>-999999.0</td>\n",
       "      <td>14.00</td>\n",
       "      <td>27.00</td>\n",
       "      <td>40.00</td>\n",
       "      <td>52.00</td>\n",
       "    </tr>\n",
       "    <tr>\n",
       "      <th>sales_per_day</th>\n",
       "      <td>18193.0</td>\n",
       "      <td>50823.378059</td>\n",
       "      <td>31283.133925</td>\n",
       "      <td>-999999.0</td>\n",
       "      <td>51260.45</td>\n",
       "      <td>57319.92</td>\n",
       "      <td>63163.58</td>\n",
       "      <td>96225.53</td>\n",
       "    </tr>\n",
       "  </tbody>\n",
       "</table>\n",
       "</div>"
      ],
      "text/plain": [
       "                     count          mean           std       min       25%  \\\n",
       "customers_per_day  18199.0    259.351503  26758.789881 -999999.0    327.00   \n",
       "outlet_id          18194.0   -301.265747  24590.138649 -999999.0     97.00   \n",
       "week_id            18194.0   -852.575684  29643.403749 -999999.0     14.00   \n",
       "sales_per_day      18193.0  50823.378059  31283.133925 -999999.0  51260.45   \n",
       "\n",
       "                        50%       75%       max  \n",
       "customers_per_day    550.00   1605.00   4734.00  \n",
       "outlet_id            255.00    530.00    698.00  \n",
       "week_id               27.00     40.00     52.00  \n",
       "sales_per_day      57319.92  63163.58  96225.53  "
      ]
     },
     "execution_count": 5,
     "metadata": {},
     "output_type": "execute_result"
    }
   ],
   "source": [
    "mydf.describe().T"
   ]
  },
  {
   "cell_type": "code",
   "execution_count": 6,
   "metadata": {},
   "outputs": [
    {
     "data": {
      "text/plain": [
       "Index(['brand', 'country', 'currency', 'customers_per_day', 'outlet_id',\n",
       "       'week_id', 'weekday', 'sales_per_day'],\n",
       "      dtype='object')"
      ]
     },
     "execution_count": 6,
     "metadata": {},
     "output_type": "execute_result"
    }
   ],
   "source": [
    "mydf.columns"
   ]
  },
  {
   "cell_type": "code",
   "execution_count": 7,
   "metadata": {},
   "outputs": [
    {
     "data": {
      "text/plain": [
       "[RangeIndex(start=0, stop=18207, step=1),\n",
       " Index(['brand', 'country', 'currency', 'customers_per_day', 'outlet_id',\n",
       "        'week_id', 'weekday', 'sales_per_day'],\n",
       "       dtype='object')]"
      ]
     },
     "execution_count": 7,
     "metadata": {},
     "output_type": "execute_result"
    }
   ],
   "source": [
    "mydf.axes"
   ]
  },
  {
   "cell_type": "code",
   "execution_count": 20,
   "metadata": {},
   "outputs": [
    {
     "data": {
      "text/html": [
       "<div>\n",
       "<style scoped>\n",
       "    .dataframe tbody tr th:only-of-type {\n",
       "        vertical-align: middle;\n",
       "    }\n",
       "\n",
       "    .dataframe tbody tr th {\n",
       "        vertical-align: top;\n",
       "    }\n",
       "\n",
       "    .dataframe thead th {\n",
       "        text-align: right;\n",
       "    }\n",
       "</style>\n",
       "<table border=\"1\" class=\"dataframe\">\n",
       "  <thead>\n",
       "    <tr style=\"text-align: right;\">\n",
       "      <th></th>\n",
       "      <th>brand</th>\n",
       "      <th>outlet_id</th>\n",
       "      <th>currency</th>\n",
       "    </tr>\n",
       "  </thead>\n",
       "  <tbody>\n",
       "    <tr>\n",
       "      <th>16313471</th>\n",
       "      <td>MediaMarkt</td>\n",
       "      <td>currency</td>\n",
       "      <td>currency</td>\n",
       "    </tr>\n",
       "    <tr>\n",
       "      <th>10875638</th>\n",
       "      <td>NaN</td>\n",
       "      <td>currency</td>\n",
       "      <td>currency</td>\n",
       "    </tr>\n",
       "    <tr>\n",
       "      <th>10875639</th>\n",
       "      <td>MediaMarkt</td>\n",
       "      <td>currency</td>\n",
       "      <td>currency</td>\n",
       "    </tr>\n",
       "    <tr>\n",
       "      <th>10875640</th>\n",
       "      <td>MediaMarkt</td>\n",
       "      <td>currency</td>\n",
       "      <td>currency</td>\n",
       "    </tr>\n",
       "    <tr>\n",
       "      <th>10875641</th>\n",
       "      <td>MediaMarkt</td>\n",
       "      <td>currency</td>\n",
       "      <td>currency</td>\n",
       "    </tr>\n",
       "    <tr>\n",
       "      <th>10875642</th>\n",
       "      <td>MediaMarkt</td>\n",
       "      <td>currency</td>\n",
       "      <td>currency</td>\n",
       "    </tr>\n",
       "    <tr>\n",
       "      <th>10875643</th>\n",
       "      <td>MediaMarkt</td>\n",
       "      <td>currency</td>\n",
       "      <td>currency</td>\n",
       "    </tr>\n",
       "    <tr>\n",
       "      <th>10875644</th>\n",
       "      <td>MediaMarkt</td>\n",
       "      <td>currency</td>\n",
       "      <td>currency</td>\n",
       "    </tr>\n",
       "    <tr>\n",
       "      <th>10875645</th>\n",
       "      <td>MediaMarkt</td>\n",
       "      <td>currency</td>\n",
       "      <td>currency</td>\n",
       "    </tr>\n",
       "    <tr>\n",
       "      <th>10875646</th>\n",
       "      <td>Saturn</td>\n",
       "      <td>currency</td>\n",
       "      <td>currency</td>\n",
       "    </tr>\n",
       "  </tbody>\n",
       "</table>\n",
       "</div>"
      ],
      "text/plain": [
       "               brand outlet_id  currency\n",
       "16313471  MediaMarkt  currency  currency\n",
       "10875638         NaN  currency  currency\n",
       "10875639  MediaMarkt  currency  currency\n",
       "10875640  MediaMarkt  currency  currency\n",
       "10875641  MediaMarkt  currency  currency\n",
       "10875642  MediaMarkt  currency  currency\n",
       "10875643  MediaMarkt  currency  currency\n",
       "10875644  MediaMarkt  currency  currency\n",
       "10875645  MediaMarkt  currency  currency\n",
       "10875646      Saturn  currency  currency"
      ]
     },
     "execution_count": 20,
     "metadata": {},
     "output_type": "execute_result"
    }
   ],
   "source": [
    "mydf = pd.melt(mydf,\n",
    "                       [\"brand\"],\n",
    "                       var_name=\"outlet_id\",\n",
    "                       value_name=\"currency\")\n",
    "mydf = mydf.sort_values(by=[\"outlet_id\"])\n",
    "mydf.head(10)"
   ]
  },
  {
   "cell_type": "code",
   "execution_count": 24,
   "metadata": {},
   "outputs": [
    {
     "data": {
      "text/html": [
       "<div>\n",
       "<style scoped>\n",
       "    .dataframe tbody tr th:only-of-type {\n",
       "        vertical-align: middle;\n",
       "    }\n",
       "\n",
       "    .dataframe tbody tr th {\n",
       "        vertical-align: top;\n",
       "    }\n",
       "\n",
       "    .dataframe thead th {\n",
       "        text-align: right;\n",
       "    }\n",
       "</style>\n",
       "<table border=\"1\" class=\"dataframe\">\n",
       "  <thead>\n",
       "    <tr style=\"text-align: right;\">\n",
       "      <th></th>\n",
       "      <th>brand</th>\n",
       "      <th>country</th>\n",
       "      <th>currency</th>\n",
       "      <th>customers_per_day</th>\n",
       "      <th>outlet_id</th>\n",
       "      <th>week_id</th>\n",
       "      <th>weekday</th>\n",
       "      <th>sales_per_day</th>\n",
       "    </tr>\n",
       "  </thead>\n",
       "  <tbody>\n",
       "    <tr>\n",
       "      <th>0</th>\n",
       "      <td>MediaMarkt</td>\n",
       "      <td>spain</td>\n",
       "      <td>EURO</td>\n",
       "      <td>3138.0</td>\n",
       "      <td>100.0</td>\n",
       "      <td>34.0</td>\n",
       "      <td>sat</td>\n",
       "      <td>72169.14</td>\n",
       "    </tr>\n",
       "    <tr>\n",
       "      <th>1</th>\n",
       "      <td>Saturn</td>\n",
       "      <td>germany</td>\n",
       "      <td>EURO</td>\n",
       "      <td>378.0</td>\n",
       "      <td>86.0</td>\n",
       "      <td>8.0</td>\n",
       "      <td>mon</td>\n",
       "      <td>52825.62</td>\n",
       "    </tr>\n",
       "    <tr>\n",
       "      <th>2</th>\n",
       "      <td>MediaMarkt</td>\n",
       "      <td>italy</td>\n",
       "      <td>EURO</td>\n",
       "      <td>379.0</td>\n",
       "      <td>530.0</td>\n",
       "      <td>28.0</td>\n",
       "      <td>thu</td>\n",
       "      <td>53309.83</td>\n",
       "    </tr>\n",
       "    <tr>\n",
       "      <th>3</th>\n",
       "      <td>Saturn</td>\n",
       "      <td>germany</td>\n",
       "      <td>EURO</td>\n",
       "      <td>3050.0</td>\n",
       "      <td>17.0</td>\n",
       "      <td>47.0</td>\n",
       "      <td>sat</td>\n",
       "      <td>74237.45</td>\n",
       "    </tr>\n",
       "    <tr>\n",
       "      <th>4</th>\n",
       "      <td>MediaMarkt</td>\n",
       "      <td>spain</td>\n",
       "      <td>EURO</td>\n",
       "      <td>548.0</td>\n",
       "      <td>164.0</td>\n",
       "      <td>7.0</td>\n",
       "      <td>tue</td>\n",
       "      <td>56621.61</td>\n",
       "    </tr>\n",
       "    <tr>\n",
       "      <th>5</th>\n",
       "      <td>MediaMarkt</td>\n",
       "      <td>austria</td>\n",
       "      <td>EURO</td>\n",
       "      <td>1424.0</td>\n",
       "      <td>399.0</td>\n",
       "      <td>7.0</td>\n",
       "      <td>fri</td>\n",
       "      <td>59294.79</td>\n",
       "    </tr>\n",
       "    <tr>\n",
       "      <th>6</th>\n",
       "      <td>MediaMarkt</td>\n",
       "      <td>italy</td>\n",
       "      <td>EURO</td>\n",
       "      <td>479.0</td>\n",
       "      <td>598.0</td>\n",
       "      <td>46.0</td>\n",
       "      <td>thu</td>\n",
       "      <td>61603.64</td>\n",
       "    </tr>\n",
       "    <tr>\n",
       "      <th>7</th>\n",
       "      <td>MediaMarkt</td>\n",
       "      <td>austria</td>\n",
       "      <td>EURO</td>\n",
       "      <td>2028.0</td>\n",
       "      <td>342.0</td>\n",
       "      <td>36.0</td>\n",
       "      <td>sat</td>\n",
       "      <td>-999999.00</td>\n",
       "    </tr>\n",
       "    <tr>\n",
       "      <th>8</th>\n",
       "      <td>MediaMarkt</td>\n",
       "      <td>germany</td>\n",
       "      <td>EURO</td>\n",
       "      <td>1425.0</td>\n",
       "      <td>56.0</td>\n",
       "      <td>46.0</td>\n",
       "      <td>fri</td>\n",
       "      <td>62742.69</td>\n",
       "    </tr>\n",
       "    <tr>\n",
       "      <th>9</th>\n",
       "      <td>MediaMarkt</td>\n",
       "      <td>switzerland</td>\n",
       "      <td>CHF</td>\n",
       "      <td>266.0</td>\n",
       "      <td>477.0</td>\n",
       "      <td>10.0</td>\n",
       "      <td>mon</td>\n",
       "      <td>51922.36</td>\n",
       "    </tr>\n",
       "  </tbody>\n",
       "</table>\n",
       "</div>"
      ],
      "text/plain": [
       "        brand      country currency  customers_per_day  outlet_id  week_id  \\\n",
       "0  MediaMarkt        spain     EURO             3138.0      100.0     34.0   \n",
       "1      Saturn      germany     EURO              378.0       86.0      8.0   \n",
       "2  MediaMarkt        italy     EURO              379.0      530.0     28.0   \n",
       "3      Saturn      germany     EURO             3050.0       17.0     47.0   \n",
       "4  MediaMarkt        spain     EURO              548.0      164.0      7.0   \n",
       "5  MediaMarkt      austria     EURO             1424.0      399.0      7.0   \n",
       "6  MediaMarkt        italy     EURO              479.0      598.0     46.0   \n",
       "7  MediaMarkt      austria     EURO             2028.0      342.0     36.0   \n",
       "8  MediaMarkt      germany     EURO             1425.0       56.0     46.0   \n",
       "9  MediaMarkt  switzerland      CHF              266.0      477.0     10.0   \n",
       "\n",
       "  weekday  sales_per_day  \n",
       "0     sat       72169.14  \n",
       "1     mon       52825.62  \n",
       "2     thu       53309.83  \n",
       "3     sat       74237.45  \n",
       "4     tue       56621.61  \n",
       "5     fri       59294.79  \n",
       "6     thu       61603.64  \n",
       "7     sat     -999999.00  \n",
       "8     fri       62742.69  \n",
       "9     mon       51922.36  "
      ]
     },
     "execution_count": 24,
     "metadata": {},
     "output_type": "execute_result"
    }
   ],
   "source": [
    "mydf = pd.read_csv(\"data.csv\", sep = ';', encoding=\"mac_latin2\")\n",
    "mydf.head(10)"
   ]
  },
  {
   "cell_type": "code",
   "execution_count": null,
   "metadata": {},
   "outputs": [],
   "source": []
  }
 ],
 "metadata": {
  "kernelspec": {
   "display_name": "Python 3",
   "language": "python",
   "name": "python3"
  },
  "language_info": {
   "codemirror_mode": {
    "name": "ipython",
    "version": 3
   },
   "file_extension": ".py",
   "mimetype": "text/x-python",
   "name": "python",
   "nbconvert_exporter": "python",
   "pygments_lexer": "ipython3",
   "version": "3.7.3"
  },
  "latex_envs": {
   "LaTeX_envs_menu_present": true,
   "autoclose": false,
   "autocomplete": true,
   "bibliofile": "biblio.bib",
   "cite_by": "apalike",
   "current_citInitial": 1,
   "eqLabelWithNumbers": true,
   "eqNumInitial": 1,
   "hotkeys": {
    "equation": "Ctrl-E",
    "itemize": "Ctrl-I"
   },
   "labels_anchors": false,
   "latex_user_defs": false,
   "report_style_numbering": false,
   "user_envs_cfg": false
  },
  "nbTranslate": {
   "displayLangs": [
    "*"
   ],
   "hotkey": "alt-t",
   "langInMainMenu": true,
   "sourceLang": "en",
   "targetLang": "fr",
   "useGoogleTranslate": true
  },
  "neptune": {
   "notebookId": "e3bc52e8-bd84-4889-a3c5-09f82e9331d1"
  },
  "toc": {
   "base_numbering": 1,
   "nav_menu": {},
   "number_sections": true,
   "sideBar": true,
   "skip_h1_title": false,
   "title_cell": "Table of Contents",
   "title_sidebar": "Contents",
   "toc_cell": false,
   "toc_position": {
    "height": "calc(100% - 180px)",
    "left": "10px",
    "top": "150px",
    "width": "165px"
   },
   "toc_section_display": true,
   "toc_window_display": true
  },
  "varInspector": {
   "cols": {
    "lenName": 16,
    "lenType": 16,
    "lenVar": 40
   },
   "kernels_config": {
    "python": {
     "delete_cmd_postfix": "",
     "delete_cmd_prefix": "del ",
     "library": "var_list.py",
     "varRefreshCmd": "print(var_dic_list())"
    },
    "r": {
     "delete_cmd_postfix": ") ",
     "delete_cmd_prefix": "rm(",
     "library": "var_list.r",
     "varRefreshCmd": "cat(var_dic_list()) "
    }
   },
   "types_to_exclude": [
    "module",
    "function",
    "builtin_function_or_method",
    "instance",
    "_Feature"
   ],
   "window_display": false
  }
 },
 "nbformat": 4,
 "nbformat_minor": 2
}
